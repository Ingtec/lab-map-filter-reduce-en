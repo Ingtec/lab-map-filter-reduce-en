{
  "cells": [
    {
      "cell_type": "code",
      "source": [
        "!git clone https://github.com/Ingtec/lab-map-filter-reduce-en.git"
      ],
      "metadata": {
        "id": "20E19SXJQ_s5"
      },
      "execution_count": null,
      "outputs": []
    },
    {
      "cell_type": "code",
      "source": [
        "%cd /content/lab-map-filter-reduce-en\n"
      ],
      "metadata": {
        "colab": {
          "base_uri": "https://localhost:8080/"
        },
        "id": "y1i2zbupwBau",
        "outputId": "3e87d063-a21a-45f7-d137-ece87917ec4a"
      },
      "execution_count": 9,
      "outputs": [
        {
          "output_type": "stream",
          "name": "stdout",
          "text": [
            "/content/lab-map-filter-reduce-en\n"
          ]
        }
      ]
    },
    {
      "cell_type": "code",
      "source": [
        "import os\n",
        "print(os.getcwd())"
      ],
      "metadata": {
        "colab": {
          "base_uri": "https://localhost:8080/"
        },
        "id": "0dHkYKI0WII4",
        "outputId": "b8a627de-93a8-45ab-da9d-7f35bc88e2f5"
      },
      "execution_count": 10,
      "outputs": [
        {
          "output_type": "stream",
          "name": "stdout",
          "text": [
            "/content/lab-map-filter-reduce-en\n"
          ]
        }
      ]
    },
    {
      "cell_type": "code",
      "source": [
        "import sys\n",
        "sys.path.append('/content/lab-map-filter-reduce-en')"
      ],
      "metadata": {
        "id": "W_kfGMVXRBrQ"
      },
      "execution_count": 8,
      "outputs": []
    },
    {
      "cell_type": "markdown",
      "metadata": {
        "id": "i5-Z1ekYQ-du"
      },
      "source": [
        "# Before your start:\n",
        "- Read the README.md file\n",
        "- Comment as much as you can and use the resources in the README.md file\n",
        "- Happy learning!"
      ]
    },
    {
      "cell_type": "code",
      "execution_count": 62,
      "metadata": {
        "id": "w0CpNATJQ-dv"
      },
      "outputs": [],
      "source": [
        "# Import reduce from functools, numpy and pandas\n",
        "from functools import reduce\n",
        "import numpy\n",
        "import pandas"
      ]
    },
    {
      "cell_type": "markdown",
      "metadata": {
        "id": "rmo7v2WWQ-dw"
      },
      "source": [
        "# Challenge 1 - Mapping\n",
        "\n",
        "#### We will use the map function to clean up words in a book.\n",
        "\n",
        "In the following cell, we will read a text file containing the book The Prophet by Khalil Gibran."
      ]
    },
    {
      "cell_type": "code",
      "source": [
        "location = 'data/58585-0.txt'\n",
        "with open(location, 'r', encoding=\"utf8\") as f:\n",
        "    prophet = f.read().split(' ')\n"
      ],
      "metadata": {
        "id": "KkLCZjpbVPFW"
      },
      "execution_count": 34,
      "outputs": []
    },
    {
      "cell_type": "code",
      "execution_count": 35,
      "metadata": {
        "id": "fhXr3vP0Q-dw",
        "colab": {
          "base_uri": "https://localhost:8080/"
        },
        "outputId": "5dc1962f-7ad6-41d6-864f-7927b936364a"
      },
      "outputs": [
        {
          "output_type": "execute_result",
          "data": {
            "text/plain": [
              "13637"
            ]
          },
          "metadata": {},
          "execution_count": 35
        }
      ],
      "source": [
        "len(prophet)"
      ]
    },
    {
      "cell_type": "markdown",
      "metadata": {
        "id": "2NTJ8outQ-dw"
      },
      "source": [
        "#### Let's remove the first 568 words since they contain information about the book but are not part of the book itself.\n",
        "\n",
        "Do this by removing from `prophet` elements 0 through 567 of the list (you can also do this by keeping elements 568 through the last element)."
      ]
    },
    {
      "cell_type": "code",
      "execution_count": 36,
      "metadata": {
        "id": "h2oD3QbAQ-dw"
      },
      "outputs": [],
      "source": [
        "# Removing the first 568 words from the list\n",
        "# These words contain book metadata, not part of the actual book\n",
        "prophet = prophet[568:]"
      ]
    },
    {
      "cell_type": "code",
      "source": [
        "print(len(prophet))"
      ],
      "metadata": {
        "colab": {
          "base_uri": "https://localhost:8080/"
        },
        "id": "ktRKTfIIXpK1",
        "outputId": "7434b08d-07e6-41d2-d40a-bbff9aa5e590"
      },
      "execution_count": 37,
      "outputs": [
        {
          "output_type": "stream",
          "name": "stdout",
          "text": [
            "13069\n"
          ]
        }
      ]
    },
    {
      "cell_type": "markdown",
      "metadata": {
        "id": "ZC7klewEQ-dw"
      },
      "source": [
        "If you look through the words, you will find that many words have a reference attached to them. For example, let's look at words 1 through 10."
      ]
    },
    {
      "cell_type": "code",
      "execution_count": 39,
      "metadata": {
        "id": "lJxVcPtEQ-dw",
        "colab": {
          "base_uri": "https://localhost:8080/"
        },
        "outputId": "747da765-e797-49b9-87a8-ba67c18d7167"
      },
      "outputs": [
        {
          "output_type": "stream",
          "name": "stdout",
          "text": [
            "['PROPHET\\n\\n|Almustafa,', 'the{7}', 'chosen', 'and', 'the\\nbeloved,', 'who', 'was', 'a', 'dawn', 'unto']\n"
          ]
        }
      ],
      "source": [
        "# Checking the first 10 words of the book content\n",
        "# This helps identify patterns like references or unwanted characters\n",
        "print(prophet[:10])"
      ]
    },
    {
      "cell_type": "markdown",
      "metadata": {
        "id": "ChM5DosrQ-dw"
      },
      "source": [
        "#### The next step is to create a function that will remove references.\n",
        "\n",
        "We will do this by splitting the string on the `{` character and keeping only the part before this character. Write your function below."
      ]
    },
    {
      "cell_type": "code",
      "execution_count": 40,
      "metadata": {
        "id": "FGLXHhFXQ-dw"
      },
      "outputs": [],
      "source": [
        "def reference(x):\n",
        "    '''\n",
        "    Input: A string\n",
        "    Output: The string with references removed\n",
        "\n",
        "    Example:\n",
        "    Input: 'the{7}'\n",
        "    Output: 'the'\n",
        "    '''\n",
        "\n",
        "     # Splitting the string at the '{' character and keeping the first part\n",
        "    return x.split('{')[0]"
      ]
    },
    {
      "cell_type": "markdown",
      "metadata": {
        "id": "H5ShHkUfQ-dx"
      },
      "source": [
        "Now that we have our function, use the `map()` function to apply this function to our book, The Prophet. Return the resulting list to a new list called `prophet_reference`."
      ]
    },
    {
      "cell_type": "code",
      "execution_count": 41,
      "metadata": {
        "id": "lf44TCvGQ-dx",
        "colab": {
          "base_uri": "https://localhost:8080/"
        },
        "outputId": "9076f282-af3a-41ec-c141-e39c0f763ff2"
      },
      "outputs": [
        {
          "output_type": "stream",
          "name": "stdout",
          "text": [
            "['PROPHET\\n\\n|Almustafa,', 'the', 'chosen', 'and', 'the\\nbeloved,', 'who', 'was', 'a', 'dawn', 'unto']\n"
          ]
        }
      ],
      "source": [
        "# Applying the reference function using map\n",
        "prophet_reference = list(map(reference, prophet))\n",
        "print(prophet_reference[:10])  # Checking the first 10 cleaned words"
      ]
    },
    {
      "cell_type": "markdown",
      "metadata": {
        "id": "rF2IqxAnQ-dx"
      },
      "source": [
        "Another thing you may have noticed is that some words contain a line break. Let's write a function to split those words. Our function will return the string split on the character `\\n`. Write your function in the cell below."
      ]
    },
    {
      "cell_type": "code",
      "execution_count": 42,
      "metadata": {
        "id": "AvN6nicoQ-dx"
      },
      "outputs": [],
      "source": [
        "def line_break(x):\n",
        "    '''\n",
        "    Input: A string\n",
        "    Output: A list of strings split on the line break (\\n) character\n",
        "\n",
        "    Example:\n",
        "    Input: 'the\\nbeloved'\n",
        "    Output: ['the', 'beloved']\n",
        "    '''\n",
        "# Splitting the string on the line break character (\\n)\n",
        "    return x.split('\\n')"
      ]
    },
    {
      "cell_type": "markdown",
      "metadata": {
        "id": "2lv8ae3tQ-dx"
      },
      "source": [
        "Apply the `line_break` function to the `prophet_reference` list. Name the new list `prophet_line`."
      ]
    },
    {
      "cell_type": "code",
      "execution_count": 43,
      "metadata": {
        "scrolled": true,
        "id": "ZxbE-95DQ-dx",
        "colab": {
          "base_uri": "https://localhost:8080/"
        },
        "outputId": "4c28c451-d5c5-412d-c8ee-e70eaa3d933b"
      },
      "outputs": [
        {
          "output_type": "stream",
          "name": "stdout",
          "text": [
            "[['PROPHET', '', '|Almustafa,'], ['the'], ['chosen'], ['and'], ['the', 'beloved,']]\n"
          ]
        }
      ],
      "source": [
        "# Applying the line_break function to the list\n",
        "prophet_line = list(map(line_break, prophet_reference))\n",
        "print(prophet_line[:5])  # Checking the first 5 elements (lists of strings)"
      ]
    },
    {
      "cell_type": "markdown",
      "metadata": {
        "id": "pwYQv2FGQ-dx"
      },
      "source": [
        "If you look at the elements of `prophet_line`, you will see that the function returned lists and not strings. Our list is now a list of lists. Flatten the list using list comprehension. Assign this new list to `prophet_flat`."
      ]
    },
    {
      "cell_type": "code",
      "execution_count": null,
      "metadata": {
        "id": "jhI1o1BMQ-dx"
      },
      "outputs": [],
      "source": [
        "prophet_flat = [i for sub in prophet_line for i in sub]\n",
        "prophet_flat"
      ]
    },
    {
      "cell_type": "code",
      "execution_count": 49,
      "metadata": {
        "id": "12KKgDcyQ-dx",
        "colab": {
          "base_uri": "https://localhost:8080/"
        },
        "outputId": "0b52a8f4-930a-46b3-a6d8-058aba98c2d9"
      },
      "outputs": [
        {
          "output_type": "stream",
          "name": "stdout",
          "text": [
            "['PROPHET', '', '|Almustafa,', 'the', 'chosen', 'and', 'the', 'beloved,', 'who', 'was']\n"
          ]
        }
      ],
      "source": [
        "# Flattening the list of lists into a single list using list comprehension\n",
        "prophet_flat = [word for sublist in prophet_line for word in sublist]\n",
        "print(prophet_flat[:10])  # Checking the first 10 words"
      ]
    },
    {
      "cell_type": "markdown",
      "metadata": {
        "id": "tHeE6t_gQ-dx"
      },
      "source": [
        "# Challenge 2 - Filtering\n",
        "\n",
        "When printing out a few words from the book, we see that there are words that we may not want to keep if we choose to analyze the corpus of text. Below is a list of words that we would like to get rid of. Create a function that will return false if it contains a word from the list of words specified and true otherwise."
      ]
    },
    {
      "cell_type": "code",
      "execution_count": 50,
      "metadata": {
        "id": "h2TiH7PCQ-dx"
      },
      "outputs": [],
      "source": [
        "def word_filter(x):\n",
        "    '''\n",
        "    Input: A string\n",
        "    Output: True if the word is not in the specified list\n",
        "    and False if the word is in the list.\n",
        "\n",
        "    Example:\n",
        "    word list = ['and', 'the']\n",
        "    Input: 'and'\n",
        "    Output: False\n",
        "\n",
        "    Input: 'John'\n",
        "    Output: True\n",
        "    '''\n",
        "\n",
        "    word_list = ['and', 'the', 'a', 'an']\n",
        "\n",
        "    return x not in word_list  # Returns True for words NOT in the list"
      ]
    },
    {
      "cell_type": "markdown",
      "metadata": {
        "id": "mSQ0Yq_rQ-dx"
      },
      "source": [
        "Use the `filter()` function to filter out the words speficied in the `word_filter()` function. Store the filtered list in the variable `prophet_filter`."
      ]
    },
    {
      "cell_type": "code",
      "execution_count": 51,
      "metadata": {
        "scrolled": true,
        "id": "P8pVppwSQ-dx",
        "colab": {
          "base_uri": "https://localhost:8080/"
        },
        "outputId": "d952b45a-dc83-4352-9693-08b83d36ce11"
      },
      "outputs": [
        {
          "output_type": "stream",
          "name": "stdout",
          "text": [
            "['PROPHET', '', '|Almustafa,', 'chosen', 'beloved,', 'who', 'was', 'dawn', 'unto', 'his']\n"
          ]
        }
      ],
      "source": [
        "# Applying the word_filter function to remove stop words\n",
        "prophet_filter = list(filter(word_filter, prophet_flat))\n",
        "print(prophet_filter[:10])  # Checking the first 10 filtered words"
      ]
    },
    {
      "cell_type": "markdown",
      "metadata": {
        "id": "edIvisZuQ-dx"
      },
      "source": [
        "# Bonus Challenge\n",
        "\n",
        "Rewrite the `word_filter` function above to not be case sensitive."
      ]
    },
    {
      "cell_type": "code",
      "execution_count": 52,
      "metadata": {
        "id": "0QKTydc6Q-dx"
      },
      "outputs": [],
      "source": [
        "def word_filter_case(x):\n",
        "\n",
        "    word_list = ['and', 'the', 'a', 'an']\n",
        "\n",
        "    return x.lower() not in word_list  # Convert both word and list to lowercase for comparison\n"
      ]
    },
    {
      "cell_type": "code",
      "source": [
        "# Applying the case-insensitive word_filter function\n",
        "prophet_filter_case = list(filter(word_filter_case, prophet_flat))\n",
        "print(prophet_filter_case[:10])  # Checking the first 10 filtered words (case insensitive)"
      ],
      "metadata": {
        "colab": {
          "base_uri": "https://localhost:8080/"
        },
        "id": "0NY_omX9aLt_",
        "outputId": "a1ddeeb4-c48b-41b9-9e86-12b6791faeab"
      },
      "execution_count": 53,
      "outputs": [
        {
          "output_type": "stream",
          "name": "stdout",
          "text": [
            "['PROPHET', '', '|Almustafa,', 'chosen', 'beloved,', 'who', 'was', 'dawn', 'unto', 'his']\n"
          ]
        }
      ]
    },
    {
      "cell_type": "markdown",
      "metadata": {
        "id": "BTqkmB93Q-dx"
      },
      "source": [
        "# Challenge 3 - Reducing\n",
        "\n",
        "#### Now that we have significantly cleaned up our text corpus, let's use the `reduce()` function to put the words back together into one long string separated by spaces.\n",
        "\n",
        "We will start by writing a function that takes two strings and concatenates them together with a space between the two strings."
      ]
    },
    {
      "cell_type": "code",
      "execution_count": 65,
      "metadata": {
        "id": "q3I1VfhKQ-dx"
      },
      "outputs": [],
      "source": [
        "def concat_space(a, b):\n",
        "    '''\n",
        "    Input: Two strings\n",
        "    Output: A single string separated by a space\n",
        "\n",
        "    Example:\n",
        "    Input: 'John', 'Smith'\n",
        "    Output: 'John Smith'\n",
        "    '''\n",
        "    return f\"{a} {b}\"  # Join the two strings with a space\n"
      ]
    },
    {
      "cell_type": "code",
      "execution_count": 66,
      "metadata": {
        "scrolled": true,
        "id": "UWdJEbcLQ-dx"
      },
      "outputs": [],
      "source": [
        "# Applying reduce with the corrected concat_space function\n",
        "prophet_string = reduce(concat_space, prophet_filter_case)"
      ]
    },
    {
      "cell_type": "markdown",
      "metadata": {
        "id": "Y1fX_41HQ-dy"
      },
      "source": [
        "Use the function above to reduce the text corpus in the list `prophet_filter` into a single string. Assign this new string to the variable `prophet_string`."
      ]
    },
    {
      "cell_type": "code",
      "execution_count": 67,
      "metadata": {
        "id": "yc4FPreCQ-dy",
        "colab": {
          "base_uri": "https://localhost:8080/"
        },
        "outputId": "71813b8c-d4ce-4d98-f8c0-eb1ae281fe46"
      },
      "outputs": [
        {
          "output_type": "stream",
          "name": "stdout",
          "text": [
            "PROPHET  |Almustafa, chosen beloved, who was dawn unto his own day, had waited twelve years in city of Orphalese for his ship that was to return bear him back to isle of his birth.  in twelfth year, on seventh day of Ielool, month of reaping, he climbed hill without city walls looked seaward; he beheld his ship coming with mist.  Then gates of his heart were flung open, his joy flew far over sea. he closed his eyes prayed in silences of his soul.  *****  But as he descended hill, sadness came up\n"
          ]
        }
      ],
      "source": [
        "# Display the first 500 characters of the final concatenated string\n",
        "print(prophet_string[:500])"
      ]
    }
  ],
  "metadata": {
    "kernelspec": {
      "display_name": "Python 3 (ipykernel)",
      "language": "python",
      "name": "python3"
    },
    "language_info": {
      "codemirror_mode": {
        "name": "ipython",
        "version": 3
      },
      "file_extension": ".py",
      "mimetype": "text/x-python",
      "name": "python",
      "nbconvert_exporter": "python",
      "pygments_lexer": "ipython3",
      "version": "3.9.13"
    },
    "colab": {
      "provenance": []
    }
  },
  "nbformat": 4,
  "nbformat_minor": 0
}